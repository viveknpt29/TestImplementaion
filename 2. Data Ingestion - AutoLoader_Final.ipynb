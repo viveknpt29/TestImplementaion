{
 "cells": [
  {
   "cell_type": "code",
   "execution_count": 0,
   "metadata": {
    "application/vnd.databricks.v1+cell": {
     "cellMetadata": {
      "byteLimit": 2048000,
      "rowLimit": 10000
     },
     "inputWidgets": {},
     "nuid": "8ac87d42-0078-4c7b-ae43-682ecd87fe88",
     "showTitle": false,
     "tableResultSettingsMap": {},
     "title": ""
    }
   },
   "outputs": [],
   "source": [
    "# Stream Should not stop in Prod - "
   ]
  },
  {
   "cell_type": "code",
   "execution_count": 0,
   "metadata": {
    "application/vnd.databricks.v1+cell": {
     "cellMetadata": {
      "byteLimit": 2048000,
      "implicitDf": true,
      "rowLimit": 10000
     },
     "inputWidgets": {},
     "nuid": "4c4ee97f-0539-40ec-bfc2-e692de1e1827",
     "showTitle": false,
     "tableResultSettingsMap": {},
     "title": ""
    }
   },
   "outputs": [],
   "source": [
    "%sql\n",
    "USE CATALOG hive_metastore;\n",
    "use vivekkbangaru"
   ]
  },
  {
   "cell_type": "code",
   "execution_count": 0,
   "metadata": {
    "application/vnd.databricks.v1+cell": {
     "cellMetadata": {
      "byteLimit": 2048000,
      "rowLimit": 10000
     },
     "inputWidgets": {},
     "nuid": "fbfb3738-104e-4b16-82e5-a3c76cc34779",
     "showTitle": false,
     "tableResultSettingsMap": {},
     "title": ""
    }
   },
   "outputs": [],
   "source": [
    "inputPath_final = \"dbfs:/FileStore/tables/vivekkbangaru/autoloader_final/landingzone\"\n",
    "outputPath_final = \"dbfs:/FileStore/tables/vivekkbangaru/autoloader_final/outputPath\"\n",
    "checkpoint_location_final = \"dbfs:/FileStore/tables/vivekkbangaru/autoloader_final/checkpoint_location\"\n",
    "schemalocation_final = \"dbfs:/FileStore/tables/vivekkbangaru/autoloader_final/schemalocation\""
   ]
  },
  {
   "cell_type": "code",
   "execution_count": 0,
   "metadata": {
    "application/vnd.databricks.v1+cell": {
     "cellMetadata": {
      "byteLimit": 2048000,
      "rowLimit": 10000
     },
     "inputWidgets": {},
     "nuid": "4650c8be-2550-4825-9bf6-00933b851121",
     "showTitle": false,
     "tableResultSettingsMap": {},
     "title": ""
    }
   },
   "outputs": [],
   "source": [
    "dbutils.fs.mkdirs(inputPath_final)\n",
    "dbutils.fs.mkdirs(outputPath_final)\n",
    "dbutils.fs.mkdirs(checkpoint_location_final)\n",
    "dbutils.fs.mkdirs(schemalocation_final)"
   ]
  },
  {
   "cell_type": "code",
   "execution_count": 0,
   "metadata": {
    "application/vnd.databricks.v1+cell": {
     "cellMetadata": {
      "byteLimit": 2048000,
      "rowLimit": 10000
     },
     "inputWidgets": {},
     "nuid": "eb1a8a19-9572-4198-9fc3-9377eccb2540",
     "showTitle": false,
     "tableResultSettingsMap": {},
     "title": ""
    }
   },
   "outputs": [],
   "source": [
    "(spark.readStream\n",
    ".format(\"cloudFiles\")\n",
    ".option(\"cloudFiles.format\", \"csv\")\n",
    ".option(\"cloudFiles.schemaLocation\", schemalocation_final)\n",
    ".option(\"cloudFiles.inferColumnTypes\", \"true\")\n",
    ".option(\"cloudFiles.SchemaEvolutionMode\", \"rescue\")\n",
    ".load(inputPath_final)\n",
    ".writeStream\n",
    ".format(\"delta\")\n",
    ".option(\"checkpointLocation\", checkpoint_location_final)\n",
    ".option('path', outputPath_final)\n",
    ".table('autoloader_tbl_final')\n",
    ")"
   ]
  },
  {
   "cell_type": "code",
   "execution_count": 0,
   "metadata": {
    "application/vnd.databricks.v1+cell": {
     "cellMetadata": {
      "byteLimit": 2048000,
      "implicitDf": true,
      "rowLimit": 10000
     },
     "inputWidgets": {},
     "nuid": "e86946ef-42a9-4060-9ada-ba71cacdb5d2",
     "showTitle": false,
     "tableResultSettingsMap": {},
     "title": ""
    }
   },
   "outputs": [],
   "source": [
    "%sql\n",
    "-- truncate table hive_metastore.vivekkbangaru.autoloader_tbl_final;\n",
    "select count(*) from hive_metastore.vivekkbangaru.autoloader_tbl_final;"
   ]
  },
  {
   "cell_type": "code",
   "execution_count": 0,
   "metadata": {
    "application/vnd.databricks.v1+cell": {
     "cellMetadata": {},
     "inputWidgets": {},
     "nuid": "c34fc8e5-4627-4eca-b0f3-38b9592d4096",
     "showTitle": false,
     "tableResultSettingsMap": {},
     "title": ""
    }
   },
   "outputs": [],
   "source": []
  }
 ],
 "metadata": {
  "application/vnd.databricks.v1+notebook": {
   "computePreferences": null,
   "dashboards": [],
   "environmentMetadata": {
    "base_environment": "",
    "environment_version": "2"
   },
   "inputWidgetPreferences": null,
   "language": "python",
   "notebookMetadata": {
    "mostRecentlyExecutedCommandWithImplicitDF": {
     "commandId": 6539121881100905,
     "dataframes": [
      "_sqldf"
     ]
    },
    "pythonIndentUnit": 4
   },
   "notebookName": "2. Data Ingestion - AutoLoader_Final",
   "widgets": {}
  },
  "language_info": {
   "name": "python"
  }
 },
 "nbformat": 4,
 "nbformat_minor": 0
}
