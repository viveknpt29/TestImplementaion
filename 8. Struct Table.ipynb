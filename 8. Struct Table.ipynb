{
 "cells": [
  {
   "cell_type": "code",
   "execution_count": 0,
   "metadata": {
    "application/vnd.databricks.v1+cell": {
     "cellMetadata": {},
     "inputWidgets": {},
     "nuid": "27dbc0aa-8b45-4646-a68e-1696e9ac9088",
     "showTitle": false,
     "tableResultSettingsMap": {},
     "title": ""
    }
   },
   "outputs": [],
   "source": [
    "%sql\n",
    "CREATE OR REPLACE TABLE raw_table (\n",
    "  transaction_id STRING,\n",
    "  payload ARRAY<STRUCT<customer_id: STRING, date: TIMESTAMP, store_id: STRING>>\n",
    ");"
   ]
  },
  {
   "cell_type": "code",
   "execution_count": 0,
   "metadata": {
    "application/vnd.databricks.v1+cell": {
     "cellMetadata": {
      "byteLimit": 2048000,
      "implicitDf": true,
      "rowLimit": 10000
     },
     "inputWidgets": {},
     "nuid": "35679d0a-c751-4816-a52e-3dbd637e82fd",
     "showTitle": false,
     "tableResultSettingsMap": {},
     "title": ""
    }
   },
   "outputs": [],
   "source": [
    "%sql\n",
    "use CATALOG hive_metastore;\n",
    "use vivekkbangaru;\n",
    "create or replace table struct_table(\n",
    "  transaction_id string, \n",
    "  payload array<struct<customer_id:String, store_id: String>>\n",
    ")"
   ]
  },
  {
   "cell_type": "code",
   "execution_count": 0,
   "metadata": {
    "application/vnd.databricks.v1+cell": {
     "cellMetadata": {
      "byteLimit": 2048000,
      "implicitDf": true,
      "rowLimit": 10000
     },
     "inputWidgets": {},
     "nuid": "ba97b331-88d9-4d29-b9bd-602a8ee1c743",
     "showTitle": false,
     "tableResultSettingsMap": {},
     "title": ""
    }
   },
   "outputs": [],
   "source": [
    "%sql\n",
    "describe extended hive_metastore.vivekkbangaru.struct_table;\n"
   ]
  },
  {
   "cell_type": "code",
   "execution_count": 0,
   "metadata": {
    "application/vnd.databricks.v1+cell": {
     "cellMetadata": {
      "byteLimit": 2048000,
      "implicitDf": true,
      "rowLimit": 10000
     },
     "inputWidgets": {},
     "nuid": "0153a3d8-6e1f-4652-a772-51fa6c73622a",
     "showTitle": false,
     "tableResultSettingsMap": {},
     "title": ""
    }
   },
   "outputs": [],
   "source": [
    "%sql\n",
    "INSERT INTO hive_metastore.vivekkbangaru.struct_table Values\n",
    "(\n",
    "  'TXN001',\n",
    "  ARRAY(\n",
    "    NAMED_STRUCT('customer_id', 'C001', 'store_id', 'S01'),\n",
    "    NAMED_STRUCT('customer_id', 'C002', 'store_id', 'S02')\n",
    "  )\n",
    "),\n",
    "(\n",
    "  'TXN002',\n",
    "  ARRAY(\n",
    "    NAMED_STRUCT('customer_id', 'C003', 'store_id', 'S03')\n",
    "  )\n",
    ");"
   ]
  },
  {
   "cell_type": "code",
   "execution_count": 0,
   "metadata": {
    "application/vnd.databricks.v1+cell": {
     "cellMetadata": {
      "byteLimit": 2048000,
      "implicitDf": true,
      "rowLimit": 10000
     },
     "inputWidgets": {},
     "nuid": "856fac15-e7bb-4f41-9715-4b57814b7c2a",
     "showTitle": false,
     "tableResultSettingsMap": {},
     "title": ""
    }
   },
   "outputs": [],
   "source": [
    "%sql\n",
    "-- select * from hive_metastore.vivekkbangaru.struct_table\n",
    "select transaction_id, explode(payload.store_id) from hive_metastore.vivekkbangaru.struct_table;"
   ]
  }
 ],
 "metadata": {
  "application/vnd.databricks.v1+notebook": {
   "computePreferences": null,
   "dashboards": [],
   "environmentMetadata": {
    "base_environment": "",
    "environment_version": "2"
   },
   "inputWidgetPreferences": null,
   "language": "python",
   "notebookMetadata": {
    "mostRecentlyExecutedCommandWithImplicitDF": {
     "commandId": 8636813090804152,
     "dataframes": [
      "_sqldf"
     ]
    },
    "pythonIndentUnit": 4
   },
   "notebookName": "8. Struct Table",
   "widgets": {}
  },
  "language_info": {
   "name": "python"
  }
 },
 "nbformat": 4,
 "nbformat_minor": 0
}
