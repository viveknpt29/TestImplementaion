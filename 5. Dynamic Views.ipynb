{
 "cells": [
  {
   "cell_type": "code",
   "execution_count": 0,
   "metadata": {
    "application/vnd.databricks.v1+cell": {
     "cellMetadata": {
      "byteLimit": 2048000,
      "implicitDf": true,
      "rowLimit": 10000
     },
     "inputWidgets": {},
     "nuid": "50167363-b9c2-449f-ad8e-d73a115bbb88",
     "showTitle": false,
     "tableResultSettingsMap": {},
     "title": ""
    }
   },
   "outputs": [],
   "source": [
    "%sql\n",
    "select * from hive_metastore.pii_data_db.pii_data;"
   ]
  },
  {
   "cell_type": "code",
   "execution_count": 0,
   "metadata": {
    "application/vnd.databricks.v1+cell": {
     "cellMetadata": {
      "byteLimit": 2048000,
      "implicitDf": true,
      "rowLimit": 10000
     },
     "inputWidgets": {},
     "nuid": "bd356693-0241-4254-84ae-fbcdf325c60f",
     "showTitle": false,
     "tableResultSettingsMap": {},
     "title": ""
    }
   },
   "outputs": [],
   "source": [
    "\n",
    "%sql\n",
    "select\n",
    "  id,\n",
    "  name,\n",
    "  case\n",
    "    when is_account_group_member('account users') Then regexp_extract(email, '^.*@(.*)$', 1)\n",
    "    else email\n",
    "  end as email_regex,\n",
    "  case \n",
    "    when is_account_group_member('account users') Then  'Redacted'\n",
    "    else  email\n",
    "  end as email, \n",
    "  phone_number,\n",
    "  address,\n",
    "  date_of_birth,\n",
    "  age\n",
    "from\n",
    "  hive_metastore.pii_data_db.pii_data\n",
    "where\n",
    "  case\n",
    "    when is_account_group_member('account users') Then age > 30\n",
    "    else True\n",
    "  end\n",
    "limit 5"
   ]
  }
 ],
 "metadata": {
  "application/vnd.databricks.v1+notebook": {
   "computePreferences": null,
   "dashboards": [],
   "environmentMetadata": {
    "base_environment": "",
    "environment_version": "2"
   },
   "inputWidgetPreferences": null,
   "language": "python",
   "notebookMetadata": {
    "mostRecentlyExecutedCommandWithImplicitDF": {
     "commandId": 6539121881101439,
     "dataframes": [
      "_sqldf"
     ]
    },
    "pythonIndentUnit": 4
   },
   "notebookName": "5. Dynamic Views",
   "widgets": {}
  },
  "language_info": {
   "name": "python"
  }
 },
 "nbformat": 4,
 "nbformat_minor": 0
}
