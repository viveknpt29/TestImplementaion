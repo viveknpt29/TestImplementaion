{
 "cells": [
  {
   "cell_type": "code",
   "execution_count": 0,
   "metadata": {
    "application/vnd.databricks.v1+cell": {
     "cellMetadata": {
      "byteLimit": 2048000,
      "rowLimit": 10000
     },
     "inputWidgets": {},
     "nuid": "61861655-5328-4866-9eb3-5466897fb14d",
     "showTitle": false,
     "tableResultSettingsMap": {},
     "title": ""
    }
   },
   "outputs": [],
   "source": [
    "# dbutils.fs.rm(\"dbfs:/FileStore/tables/vivekkbangaru/landingzone\", recurse=True)"
   ]
  },
  {
   "cell_type": "code",
   "execution_count": 0,
   "metadata": {
    "application/vnd.databricks.v1+cell": {
     "cellMetadata": {
      "byteLimit": 2048000,
      "rowLimit": 10000
     },
     "inputWidgets": {},
     "nuid": "476f0950-6cdf-4a8d-bc50-a002e9c7ca75",
     "showTitle": false,
     "tableResultSettingsMap": {},
     "title": ""
    }
   },
   "outputs": [],
   "source": [
    "inputPath = \"dbfs:/FileStore/tables/vivekkbangaru/autoloader/landingzone\"\n",
    "outputPath = \"dbfs:/FileStore/tables/vivekkbangaru/autoloader/outputPath\"\n",
    "checkpoint_location = \"dbfs:/FileStore/tables/vivekkbangaru/autoloader/checkpoint_location\"\n",
    "schemalocation = \"dbfs:/FileStore/tables/vivekkbangaru/autoloader/schemalocation\""
   ]
  },
  {
   "cell_type": "code",
   "execution_count": 0,
   "metadata": {
    "application/vnd.databricks.v1+cell": {
     "cellMetadata": {
      "byteLimit": 2048000,
      "rowLimit": 10000
     },
     "inputWidgets": {},
     "nuid": "4f33155d-0d91-4525-9cad-68f0f3fda1bf",
     "showTitle": false,
     "tableResultSettingsMap": {},
     "title": ""
    }
   },
   "outputs": [],
   "source": [
    "dbutils.fs.mkdirs(inputPath)\n",
    "dbutils.fs.mkdirs(outputPath)\n",
    "dbutils.fs.mkdirs(checkpoint_location)\n",
    "dbutils.fs.mkdirs(schemalocation)"
   ]
  },
  {
   "cell_type": "code",
   "execution_count": 0,
   "metadata": {
    "application/vnd.databricks.v1+cell": {
     "cellMetadata": {
      "byteLimit": 2048000,
      "implicitDf": true,
      "rowLimit": 10000
     },
     "inputWidgets": {},
     "nuid": "b9a41366-1f4e-4a1b-b095-3a61239893fe",
     "showTitle": false,
     "tableResultSettingsMap": {},
     "title": ""
    }
   },
   "outputs": [],
   "source": [
    "%sql\n",
    "USE CATALOG hive_metastore;"
   ]
  },
  {
   "cell_type": "code",
   "execution_count": 0,
   "metadata": {
    "application/vnd.databricks.v1+cell": {
     "cellMetadata": {
      "byteLimit": 2048000,
      "implicitDf": true,
      "rowLimit": 10000
     },
     "inputWidgets": {},
     "nuid": "446294c7-3546-462e-89f7-b715d48102a9",
     "showTitle": false,
     "tableResultSettingsMap": {},
     "title": ""
    }
   },
   "outputs": [],
   "source": [
    "%sql\n",
    "-- DROP DATABASE IF EXISTS vivekkbangaru CASCADE;\n",
    "-- create schema if not exists vivekkbangaru;\n",
    "describe schema vivekkbangaru"
   ]
  },
  {
   "cell_type": "code",
   "execution_count": 0,
   "metadata": {
    "application/vnd.databricks.v1+cell": {
     "cellMetadata": {
      "byteLimit": 2048000,
      "implicitDf": true,
      "rowLimit": 10000
     },
     "inputWidgets": {},
     "nuid": "da4603db-548a-4df1-ace6-0b81e7848bff",
     "showTitle": false,
     "tableResultSettingsMap": {},
     "title": ""
    }
   },
   "outputs": [],
   "source": [
    "%sql\n",
    "-- use schema vivekkbangaru;\n",
    "use vivekkbangaru"
   ]
  },
  {
   "cell_type": "code",
   "execution_count": 0,
   "metadata": {
    "application/vnd.databricks.v1+cell": {
     "cellMetadata": {
      "byteLimit": 2048000,
      "rowLimit": 10000
     },
     "inputWidgets": {},
     "nuid": "b087f6a6-11d5-4095-8827-bf28b21e29ad",
     "showTitle": false,
     "tableResultSettingsMap": {},
     "title": ""
    }
   },
   "outputs": [],
   "source": [
    "(spark.readStream\n",
    ".format(\"cloudFiles\")\n",
    ".option(\"cloudFiles.format\", \"csv\")\n",
    ".option(\"cloudFiles.schemaLocation\", schemalocation)\n",
    ".load(inputPath)\n",
    ".writeStream\n",
    ".format(\"delta\")\n",
    ".option(\"checkpointLocation\", checkpoint_location)\n",
    ".option('path', outputPath)\n",
    ".table('autoloader_tbl')\n",
    ")"
   ]
  },
  {
   "cell_type": "code",
   "execution_count": 0,
   "metadata": {
    "application/vnd.databricks.v1+cell": {
     "cellMetadata": {
      "byteLimit": 2048000,
      "rowLimit": 10000
     },
     "inputWidgets": {},
     "nuid": "98719bf4-8c9f-40a3-b4e4-1ba16edf9832",
     "showTitle": false,
     "tableResultSettingsMap": {},
     "title": ""
    }
   },
   "outputs": [],
   "source": [
    "(spark.readStream\n",
    ".format(\"cloudFiles\")\n",
    ".option(\"cloudFiles.format\", \"csv\")\n",
    ".option(\"cloudFiles.schemaLocation\", schemalocation)\n",
    ".option(\"cloudFiles.inferColumnTypes\", \"true\")\n",
    ".load(inputPath)\n",
    ".writeStream\n",
    ".format(\"delta\")\n",
    ".option(\"checkpointLocation\", checkpoint_location)\n",
    ".option('path', outputPath)\n",
    ".option(\"mergeSchema\", \"true\")\n",
    ".table('autoloader_tbl_infer_schemas')\n",
    ")"
   ]
  },
  {
   "cell_type": "code",
   "execution_count": 0,
   "metadata": {
    "application/vnd.databricks.v1+cell": {
     "cellMetadata": {
      "byteLimit": 2048000,
      "implicitDf": true,
      "rowLimit": 10000
     },
     "inputWidgets": {},
     "nuid": "8b7fedbb-4533-411b-aa50-78ce58e222b4",
     "showTitle": false,
     "tableResultSettingsMap": {},
     "title": ""
    }
   },
   "outputs": [],
   "source": [
    "%sql\n",
    "select * from hive_metastore.vivekkbangaru.autoloader_tbl_infer_schemas limit 10;\n",
    "-- truncate table hive_metastore.vivekkbangaru.autoloader_tbl;"
   ]
  },
  {
   "cell_type": "code",
   "execution_count": 0,
   "metadata": {
    "application/vnd.databricks.v1+cell": {
     "cellMetadata": {},
     "inputWidgets": {},
     "nuid": "98547b34-269e-4c2e-82bb-ccb725c82d0e",
     "showTitle": false,
     "tableResultSettingsMap": {},
     "title": ""
    }
   },
   "outputs": [],
   "source": [
    "# when we retry manually - if new columm added to the data. \n",
    "(spark.readStream\n",
    ".format(\"cloudFiles\")\n",
    ".option(\"cloudFiles.format\", \"csv\")\n",
    ".option(\"cloudFiles.schemaLocation\", schemalocation)\n",
    ".option(\"cloudFiles.inferColumnTypes\", \"true\")\n",
    ".load(inputPath)\n",
    ".writeStream\n",
    ".format(\"delta\")\n",
    ".option(\"checkpointLocation\", checkpoint_location)\n",
    ".option('path', outputPath)\n",
    ".table('autoloader_tbl_infer_schemas')\n",
    ")"
   ]
  }
 ],
 "metadata": {
  "application/vnd.databricks.v1+notebook": {
   "computePreferences": null,
   "dashboards": [],
   "environmentMetadata": {
    "base_environment": "",
    "environment_version": "2"
   },
   "inputWidgetPreferences": null,
   "language": "python",
   "notebookMetadata": {
    "mostRecentlyExecutedCommandWithImplicitDF": {
     "commandId": 6539121881100716,
     "dataframes": [
      "_sqldf"
     ]
    },
    "pythonIndentUnit": 4
   },
   "notebookName": "1. Data Ingestion - AutoLoader",
   "widgets": {}
  },
  "language_info": {
   "name": "python"
  }
 },
 "nbformat": 4,
 "nbformat_minor": 0
}
